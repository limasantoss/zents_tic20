{
 "cells": [
  {
   "cell_type": "markdown",
   "id": "73f6cdf6",
   "metadata": {},
   "source": [
    "# Sprint 5 – Preparação Final para o Dashboard\n",
    "Chegando na última sprint! Aqui o foco é preparar os dados finais que vão ser usados no dashboard da Zents. Vou juntar tudo o que foi criado até agora em um único conjunto de dados."
   ]
  },
  {
   "cell_type": "code",
   "execution_count": 3,
   "id": "95415c5e",
   "metadata": {},
   "outputs": [],
   "source": [
    "# Bibliotecas\n",
    "import pandas as pd"
   ]
  },
  {
   "cell_type": "markdown",
   "id": "54fb5156",
   "metadata": {},
   "source": [
    "## 1. Carregando os dados necessários\n",
    "Vou carregar os dados de pedidos, itens e pagamentos para juntar tudo."
   ]
  },
  {
   "cell_type": "code",
   "execution_count": 4,
   "id": "9f51e1f4",
   "metadata": {},
   "outputs": [],
   "source": [
    "pedidos = pd.read_csv('../data/raw/olist_orders_dataset.csv', parse_dates=['order_purchase_timestamp', 'order_delivered_customer_date'])\n",
    "itens = pd.read_csv('../data/raw/olist_order_items_dataset.csv')\n",
    "pagamentos = pd.read_csv('../data/raw/olist_order_payments_dataset.csv')\n",
    "clientes = pd.read_csv('../data/raw/olist_customers_dataset.csv')\n",
    "vendedores = pd.read_csv('../data/raw/olist_sellers_dataset.csv')"
   ]
  },
  {
   "cell_type": "markdown",
   "id": "05463034",
   "metadata": {},
   "source": [
    "## 2. Criando colunas úteis para o dashboard"
   ]
  },
  {
   "cell_type": "code",
   "execution_count": 5,
   "id": "6b0beb5b",
   "metadata": {},
   "outputs": [],
   "source": [
    "# Tempo de entrega (em dias)\n",
    "pedidos['tempo_entrega'] = (pedidos['order_delivered_customer_date'] - pedidos['order_purchase_timestamp']).dt.days"
   ]
  },
  {
   "cell_type": "code",
   "execution_count": 6,
   "id": "7894883c",
   "metadata": {},
   "outputs": [],
   "source": [
    "# Soma do valor dos itens por pedido\n",
    "total_itens = itens.groupby('order_id')['price'].sum().reset_index(name='valor_total_itens')"
   ]
  },
  {
   "cell_type": "code",
   "execution_count": 7,
   "id": "95d7d819",
   "metadata": {},
   "outputs": [],
   "source": [
    "# Soma dos pagamentos por pedido\n",
    "total_pagamento = pagamentos.groupby('order_id')['payment_value'].sum().reset_index(name='valor_pagamento')"
   ]
  },
  {
   "cell_type": "code",
   "execution_count": 14,
   "id": "0ad1cf63",
   "metadata": {},
   "outputs": [],
   "source": [
    "# Juntando tudo em um único DataFrame\n",
    "df = pedidos[['order_id', 'order_purchase_timestamp', 'order_delivered_customer_date', 'tempo_entrega']].copy()\n",
    "df = df.merge(total_itens, on='order_id', how='left')\n",
    "df = df.merge(total_pagamento, on='order_id', how='left')\n",
    "df = df.merge(clientes[['customer_id', 'customer_state']], left_on='order_id', right_on='customer_id', how='left')\n",
    "df = df.merge(itens[['order_id', 'seller_id']], on='order_id', how='left')"
   ]
  },
  {
   "cell_type": "code",
   "execution_count": 15,
   "id": "2ef1649b",
   "metadata": {},
   "outputs": [],
   "source": [
    "# Criando a coluna ano_mes para filtros temporais\n",
    "df['ano_mes'] = df['order_purchase_timestamp'].dt.to_period('M').astype(str)"
   ]
  },
  {
   "cell_type": "markdown",
   "id": "3c83a7cd",
   "metadata": {},
   "source": [
    "## 3. Exportando o dataset final\n",
    "Esse será o arquivo usado no dashboard."
   ]
  },
  {
   "cell_type": "code",
   "execution_count": 18,
   "id": "6c826d16",
   "metadata": {},
   "outputs": [
    {
     "name": "stdout",
     "output_type": "stream",
     "text": [
      "✅ Dataset final exportado com sucesso!\n"
     ]
    }
   ],
   "source": [
    "# Salvando como CSV\n",
    "df.to_csv('../data/processed/zents_dashboard_dataset_final.csv', index=False)\n",
    "print('✅ Dataset final exportado com sucesso!')"
   ]
  },
  {
   "cell_type": "markdown",
   "id": "706c10b5",
   "metadata": {},
   "source": [
    "## 4. Conclusão\n",
    "Pronto! Agora temos um dataset completo e limpo com:\n",
    "- Tempo de entrega\n",
    "- Valores pagos e dos produtos\n",
    "- Estado do cliente\n",
    "- Loja que vendeu\n",
    "- Mês/Ano do pedido\n",
    "\n",
    "Esse arquivo pode ser usado direto na dashboard do Streamlit."
   ]
  }
 ],
 "metadata": {
  "kernelspec": {
   "display_name": "Python 3",
   "language": "python",
   "name": "python3"
  },
  "language_info": {
   "codemirror_mode": {
    "name": "ipython",
    "version": 3
   },
   "file_extension": ".py",
   "mimetype": "text/x-python",
   "name": "python",
   "nbconvert_exporter": "python",
   "pygments_lexer": "ipython3",
   "version": "3.13.4"
  }
 },
 "nbformat": 4,
 "nbformat_minor": 5
}
