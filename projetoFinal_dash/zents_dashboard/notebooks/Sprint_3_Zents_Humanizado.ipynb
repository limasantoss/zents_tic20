{
 "cells": [
  {
   "cell_type": "markdown",
   "id": "a3adadb3",
   "metadata": {},
   "source": [
    "# Sprint 3 – Identificação de Outliers (Zents Marketplace)\n",
    "Olá! Continuando a análise, agora eu vou investigar se existem valores extremos (outliers) nos dados. Esses valores podem atrapalhar algumas análises e visualizações, então é importante entender onde eles estão."
   ]
  },
  {
   "cell_type": "code",
   "execution_count": null,
   "id": "bdd2a47f",
   "metadata": {},
   "outputs": [],
   "source": [
    "# Importando bibliotecas\n",
    "import pandas as pd\n",
    "import matplotlib.pyplot as plt\n",
    "import seaborn as sns\n",
    "%matplotlib inline\n",
    "sns.set(style='whitegrid')"
   ]
  },
  {
   "cell_type": "code",
   "execution_count": null,
   "id": "c0914dc8",
   "metadata": {},
   "outputs": [],
   "source": [
    "# Carregando os dados de pagamentos (que vou usar para analisar valores monetários)\n",
    "pagamentos = pd.read_csv('olist_order_payments_dataset.csv')"
   ]
  },
  {
   "cell_type": "markdown",
   "id": "c3b9db7b",
   "metadata": {},
   "source": [
    "## 1. Visualizando os valores de pagamento\n",
    "Vou começar vendo a distribuição dos valores pagos."
   ]
  },
  {
   "cell_type": "code",
   "execution_count": null,
   "id": "d16d3819",
   "metadata": {},
   "outputs": [],
   "source": [
    "plt.figure(figsize=(10, 5))\n",
    "sns.histplot(pagamentos['payment_value'], bins=40, kde=True, color='green')\n",
    "plt.title('Distribuição dos Valores de Pagamento')\n",
    "plt.xlabel('Valor (R$)')\n",
    "plt.ylabel('Frequência')\n",
    "plt.show()"
   ]
  },
  {
   "cell_type": "code",
   "execution_count": null,
   "id": "f01b6c1c",
   "metadata": {},
   "outputs": [],
   "source": [
    "plt.figure(figsize=(10, 5))\n",
    "sns.boxplot(x=pagamentos['payment_value'], color='lightgreen')\n",
    "plt.title('Boxplot dos Valores de Pagamento')\n",
    "plt.xlabel('Valor (R$)')\n",
    "plt.show()"
   ]
  },
  {
   "cell_type": "markdown",
   "id": "0c1ff91d",
   "metadata": {},
   "source": [
    "Pelo boxplot dá pra ver que existem alguns valores bem mais altos do que a maioria. Esses são os chamados **outliers**."
   ]
  },
  {
   "cell_type": "markdown",
   "id": "5af5ed50",
   "metadata": {},
   "source": [
    "## 2. Detectando Outliers com IQR\n",
    "Vou usar o método do IQR (Intervalo Interquartil) para identificar os outliers."
   ]
  },
  {
   "cell_type": "code",
   "execution_count": null,
   "id": "59ea9fa0",
   "metadata": {},
   "outputs": [],
   "source": [
    "# Função para detectar outliers\n",
    "def detectar_outliers_iqr(serie):\n",
    "    q1 = serie.quantile(0.25)\n",
    "    q3 = serie.quantile(0.75)\n",
    "    iqr = q3 - q1\n",
    "    limite_inferior = q1 - 1.5 * iqr\n",
    "    limite_superior = q3 + 1.5 * iqr\n",
    "    outliers = serie[(serie < limite_inferior) | (serie > limite_superior)]\n",
    "    return outliers\n",
    "\n",
    "# Aplicando na coluna de pagamento\n",
    "outliers_pagamento = detectar_outliers_iqr(pagamentos['payment_value'])\n",
    "print(f'Total de outliers encontrados: {len(outliers_pagamento)}')\n",
    "print(f'Porcentagem sobre o total: {len(outliers_pagamento) / len(pagamentos) * 100:.2f}%')"
   ]
  },
  {
   "cell_type": "markdown",
   "id": "999ae76a",
   "metadata": {},
   "source": [
    "## 3. O que fazer com esses outliers?\n",
    "Nem todo outlier é um erro. Alguns pedidos realmente podem ter valores altos, por exemplo, compras grandes ou com muitas parcelas.\n",
    "\n",
    "**Decisão:**\n",
    "- Não vou remover os outliers.\n",
    "- Em análises que usam média, vou considerar usar a mediana, que é menos sensível a esses valores extremos."
   ]
  },
  {
   "cell_type": "markdown",
   "id": "4038707c",
   "metadata": {},
   "source": [
    "## 4. Conclusão\n",
    "Consegui identificar que existe uma pequena porcentagem de pagamentos com valores muito acima da média. Como esses casos podem ser legítimos, decidi manter os dados como estão. Vou seguir para a próxima etapa com isso em mente."
   ]
  }
 ],
 "metadata": {},
 "nbformat": 4,
 "nbformat_minor": 5
}
