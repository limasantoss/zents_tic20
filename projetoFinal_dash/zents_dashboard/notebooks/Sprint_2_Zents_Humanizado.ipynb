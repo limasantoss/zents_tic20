{
 "cells": [
  {
   "cell_type": "markdown",
   "id": "1c99f219",
   "metadata": {},
   "source": [
    "# Sprint 2 – Análise Exploratória Inicial (Zents Marketplace)\n",
    "Olá! Neste notebook, eu vou começar a explorar os dados da Zents Marketplace. A ideia aqui é entender melhor como os dados estão organizados, ver se tem valores faltando e já começar a preparar algumas colunas que vão ser úteis nas próximas etapas."
   ]
  },
  {
   "cell_type": "code",
   "execution_count": null,
   "id": "c68c0388",
   "metadata": {},
   "outputs": [],
   "source": [
    "# Importando bibliotecas que eu vou usar\n",
    "import pandas as pd\n",
    "import numpy as np\n",
    "import matplotlib.pyplot as plt\n",
    "import seaborn as sns\n",
    "%matplotlib inline\n",
    "sns.set(style='whitegrid')"
   ]
  },
  {
   "cell_type": "code",
   "execution_count": null,
   "id": "829d287d",
   "metadata": {},
   "outputs": [],
   "source": [
    "# Carregando os dados (arquivos CSV da base Olist)\n",
    "pedidos = pd.read_csv('olist_orders_dataset.csv', parse_dates=['order_purchase_timestamp', 'order_delivered_customer_date'])\n",
    "clientes = pd.read_csv('olist_customers_dataset.csv')\n",
    "vendedores = pd.read_csv('olist_sellers_dataset.csv')\n",
    "produtos = pd.read_csv('olist_products_dataset.csv')"
   ]
  },
  {
   "cell_type": "markdown",
   "id": "1d4f37a7",
   "metadata": {},
   "source": [
    "## 1. Olhando o início dos dados\n",
    "Vou começar vendo as primeiras linhas da tabela de pedidos."
   ]
  },
  {
   "cell_type": "code",
   "execution_count": null,
   "id": "06257ce2",
   "metadata": {},
   "outputs": [],
   "source": [
    "pedidos.head()"
   ]
  },
  {
   "cell_type": "markdown",
   "id": "a9b6d40c",
   "metadata": {},
   "source": [
    "Agora quero entender o tipo de informação que tem em cada coluna e se há valores faltando."
   ]
  },
  {
   "cell_type": "code",
   "execution_count": null,
   "id": "66c18038",
   "metadata": {},
   "outputs": [],
   "source": [
    "pedidos.info()"
   ]
  },
  {
   "cell_type": "markdown",
   "id": "48ef918d",
   "metadata": {},
   "source": [
    "## 2. Criando a coluna de tempo de entrega\n",
    "Vou criar uma coluna chamada `tempo_entrega`, que é a diferença entre a data da compra e a data de entrega."
   ]
  },
  {
   "cell_type": "code",
   "execution_count": null,
   "id": "63623832",
   "metadata": {},
   "outputs": [],
   "source": [
    "pedidos['tempo_entrega'] = (pedidos['order_delivered_customer_date'] - pedidos['order_purchase_timestamp']).dt.days"
   ]
  },
  {
   "cell_type": "markdown",
   "id": "495579bc",
   "metadata": {},
   "source": [
    "Algumas entregas ainda não foram feitas, por isso o valor fica nulo. Vou remover esses casos só para o gráfico ficar mais bonito."
   ]
  },
  {
   "cell_type": "code",
   "execution_count": null,
   "id": "f0e03a9a",
   "metadata": {},
   "outputs": [],
   "source": [
    "tempo_entrega_limpo = pedidos['tempo_entrega'].dropna()"
   ]
  },
  {
   "cell_type": "markdown",
   "id": "1fbb33c2",
   "metadata": {},
   "source": [
    "## 3. Visualizando o tempo de entrega\n",
    "Agora vou ver como os tempos de entrega estão distribuídos."
   ]
  },
  {
   "cell_type": "code",
   "execution_count": null,
   "id": "fadef417",
   "metadata": {},
   "outputs": [],
   "source": [
    "plt.figure(figsize=(10, 5))\n",
    "sns.histplot(tempo_entrega_limpo, bins=30, kde=True, color='skyblue')\n",
    "plt.title('Distribuição do Tempo de Entrega (em dias)')\n",
    "plt.xlabel('Dias para entrega')\n",
    "plt.ylabel('Quantidade de pedidos')\n",
    "plt.show()"
   ]
  },
  {
   "cell_type": "markdown",
   "id": "1374b6b4",
   "metadata": {},
   "source": [
    "## 4. Valores ausentes\n",
    "Quero ver agora quais colunas têm valores faltando e quanto isso representa."
   ]
  },
  {
   "cell_type": "code",
   "execution_count": null,
   "id": "040de8a4",
   "metadata": {},
   "outputs": [],
   "source": [
    "nulos = pedidos.isnull().mean() * 100\n",
    "nulos[nulos > 0].sort_values(ascending=False)"
   ]
  },
  {
   "cell_type": "markdown",
   "id": "7f3e2229",
   "metadata": {},
   "source": [
    "## 5. Conclusão até aqui\n",
    "Consegui entender um pouco melhor os dados da Zents. Vi que o tempo de entrega varia bastante e que há algumas entregas que ainda não foram feitas. Na próxima sprint, vou focar nos valores extremos e ver se tem algum outlier que pode afetar a análise."
   ]
  }
 ],
 "metadata": {},
 "nbformat": 4,
 "nbformat_minor": 5
}
