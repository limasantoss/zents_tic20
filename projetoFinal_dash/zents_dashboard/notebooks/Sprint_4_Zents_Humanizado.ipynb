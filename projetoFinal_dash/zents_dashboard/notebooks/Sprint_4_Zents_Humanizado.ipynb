{
 "cells": [
  {
   "cell_type": "markdown",
   "id": "6d32b7b6",
   "metadata": {},
   "source": [
    "# Sprint 4 – Correlações e Formulação de Hipóteses\n",
    "Nesta etapa, eu quero entender se existe alguma relação entre variáveis numéricas do nosso conjunto de dados. Isso ajuda a pensar em hipóteses que podem ser testadas mais pra frente, ou até usadas no dashboard."
   ]
  },
  {
   "cell_type": "code",
   "execution_count": null,
   "id": "6ba3b870",
   "metadata": {},
   "outputs": [],
   "source": [
    "# Bibliotecas\n",
    "import pandas as pd\n",
    "import matplotlib.pyplot as plt\n",
    "import seaborn as sns\n",
    "%matplotlib inline\n",
    "sns.set(style='whitegrid')"
   ]
  },
  {
   "cell_type": "code",
   "execution_count": null,
   "id": "a7e3a1a0",
   "metadata": {},
   "outputs": [],
   "source": [
    "# Carregando os dados que vou usar\n",
    "pedidos = pd.read_csv('olist_orders_dataset.csv', parse_dates=['order_purchase_timestamp', 'order_delivered_customer_date'])\n",
    "itens = pd.read_csv('olist_order_items_dataset.csv')\n",
    "pagamentos = pd.read_csv('olist_order_payments_dataset.csv')"
   ]
  },
  {
   "cell_type": "markdown",
   "id": "a7eae6e4",
   "metadata": {},
   "source": [
    "## 1. Criando colunas úteis\n",
    "Vou calcular o tempo de entrega e o valor total dos pedidos (itens + pagamentos)."
   ]
  },
  {
   "cell_type": "code",
   "execution_count": null,
   "id": "ce739139",
   "metadata": {},
   "outputs": [],
   "source": [
    "# Criando coluna de tempo de entrega\n",
    "pedidos['tempo_entrega'] = (pedidos['order_delivered_customer_date'] - pedidos['order_purchase_timestamp']).dt.days"
   ]
  },
  {
   "cell_type": "code",
   "execution_count": null,
   "id": "32f090b0",
   "metadata": {},
   "outputs": [],
   "source": [
    "# Somando os valores dos itens por pedido\n",
    "total_itens = itens.groupby('order_id')['price'].sum().reset_index(name='valor_total_itens')"
   ]
  },
  {
   "cell_type": "code",
   "execution_count": null,
   "id": "3088b179",
   "metadata": {},
   "outputs": [],
   "source": [
    "# Somando os valores pagos por pedido\n",
    "total_pagamento = pagamentos.groupby('order_id')['payment_value'].sum().reset_index(name='valor_pagamento')"
   ]
  },
  {
   "cell_type": "code",
   "execution_count": null,
   "id": "6e716d86",
   "metadata": {},
   "outputs": [],
   "source": [
    "# Juntando tudo em um único DataFrame\n",
    "dados = pd.merge(pedidos, total_itens, on='order_id', how='left')\n",
    "dados = pd.merge(dados, total_pagamento, on='order_id', how='left')"
   ]
  },
  {
   "cell_type": "markdown",
   "id": "accc527f",
   "metadata": {},
   "source": [
    "## 2. Matriz de Correlação\n",
    "Quero ver se essas variáveis estão relacionadas entre si."
   ]
  },
  {
   "cell_type": "code",
   "execution_count": null,
   "id": "bec365c4",
   "metadata": {},
   "outputs": [],
   "source": [
    "numericas = dados[['tempo_entrega', 'valor_total_itens', 'valor_pagamento']].dropna()\n",
    "correlacoes = numericas.corr()\n",
    "plt.figure(figsize=(8, 6))\n",
    "sns.heatmap(correlacoes, annot=True, cmap='coolwarm', fmt='.2f')\n",
    "plt.title('Correlação entre Variáveis Numéricas')\n",
    "plt.show()"
   ]
  },
  {
   "cell_type": "markdown",
   "id": "c1c1cfe3",
   "metadata": {},
   "source": [
    "## 3. Gráficos de Dispersão\n",
    "Agora vou visualizar a relação entre essas variáveis."
   ]
  },
  {
   "cell_type": "code",
   "execution_count": null,
   "id": "27c89945",
   "metadata": {},
   "outputs": [],
   "source": [
    "# Tempo de entrega vs valor pago\n",
    "sns.scatterplot(x='tempo_entrega', y='valor_pagamento', data=numericas, alpha=0.5)\n",
    "plt.title('Tempo de Entrega vs Valor Pago')\n",
    "plt.xlabel('Tempo de Entrega (dias)')\n",
    "plt.ylabel('Valor Pago (R$)')\n",
    "plt.show()"
   ]
  },
  {
   "cell_type": "code",
   "execution_count": null,
   "id": "52921652",
   "metadata": {},
   "outputs": [],
   "source": [
    "# Valor dos itens vs valor pago\n",
    "sns.scatterplot(x='valor_total_itens', y='valor_pagamento', data=numericas, alpha=0.5)\n",
    "plt.title('Valor dos Itens vs Valor Pago')\n",
    "plt.xlabel('Valor dos Itens (R$)')\n",
    "plt.ylabel('Valor Pago (R$)')\n",
    "plt.show()"
   ]
  },
  {
   "cell_type": "markdown",
   "id": "5de9009b",
   "metadata": {},
   "source": [
    "## 4. Hipóteses criadas com base nas análises\n",
    "- Hipótese 1: Pedidos com valor de itens mais alto tendem a ter maior valor pago.\n",
    "- Hipótese 2: O tempo de entrega não parece influenciar o valor pago.\n",
    "- Hipótese 3: A diferença entre valor dos itens e valor pago pode estar relacionada ao valor do frete ou número de parcelas."
   ]
  },
  {
   "cell_type": "markdown",
   "id": "21078c13",
   "metadata": {},
   "source": [
    "## 5. Conclusão\n",
    "Consegui identificar algumas relações entre variáveis e criei hipóteses que podem ser testadas futuramente. Isso vai ajudar bastante na construção do dashboard."
   ]
  }
 ],
 "metadata": {},
 "nbformat": 4,
 "nbformat_minor": 5
}
